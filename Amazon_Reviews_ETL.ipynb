{
  "nbformat": 4,
  "nbformat_minor": 0,
  "metadata": {
    "colab": {
      "name": "Amazon_Reviews_ETL.ipynb",
      "provenance": [],
      "collapsed_sections": []
    },
    "kernelspec": {
      "name": "python3",
      "display_name": "Python 3"
    },
    "nteract": {
      "version": "0.12.3"
    },
    "language_info": {
      "name": "python"
    }
  },
  "cells": [
    {
      "cell_type": "code",
      "metadata": {
        "id": "V58rxea0HqSa",
        "colab": {
          "base_uri": "https://localhost:8080/"
        },
        "outputId": "952aded9-62fd-4c50-db65-ebb6fef7a972"
      },
      "source": [
        "import os\n",
        "# Find the latest version of spark 3.0 from http://www.apache.org/dist/spark/ and enter as the spark version\n",
        "# For example:\n",
        "# spark_version = 'spark-3.0.3'\n",
        "spark_version = 'spark-3.2.1'\n",
        "os.environ['SPARK_VERSION']=spark_version\n",
        "\n",
        "# Install Spark and Java\n",
        "!apt-get update\n",
        "!apt-get install openjdk-11-jdk-headless -qq > /dev/null\n",
        "!wget -q http://www.apache.org/dist/spark/$SPARK_VERSION/$SPARK_VERSION-bin-hadoop2.7.tgz\n",
        "!tar xf $SPARK_VERSION-bin-hadoop2.7.tgz\n",
        "!pip install -q findspark\n",
        "\n",
        "# Set Environment Variables\n",
        "import os\n",
        "os.environ[\"JAVA_HOME\"] = \"/usr/lib/jvm/java-11-openjdk-amd64\"\n",
        "os.environ[\"SPARK_HOME\"] = f\"/content/{spark_version}-bin-hadoop2.7\"\n",
        "\n",
        "# Start a SparkSession\n",
        "import findspark\n",
        "findspark.init()"
      ],
      "execution_count": 1,
      "outputs": [
        {
          "output_type": "stream",
          "name": "stdout",
          "text": [
            "\r0% [Working]\r            \rHit:1 http://archive.ubuntu.com/ubuntu bionic InRelease\n",
            "\r0% [Connecting to security.ubuntu.com (185.125.190.36)] [Connected to cloud.r-p\r                                                                               \rGet:2 https://developer.download.nvidia.com/compute/cuda/repos/ubuntu1804/x86_64  InRelease [1,581 B]\n",
            "\r0% [Waiting for headers] [Connecting to security.ubuntu.com (185.125.190.36)] [\r0% [1 InRelease gpgv 242 kB] [Waiting for headers] [Connecting to security.ubun\r                                                                               \rGet:3 http://archive.ubuntu.com/ubuntu bionic-updates InRelease [88.7 kB]\n",
            "Get:4 https://cloud.r-project.org/bin/linux/ubuntu bionic-cran40/ InRelease [3,626 B]\n",
            "Get:5 http://security.ubuntu.com/ubuntu bionic-security InRelease [88.7 kB]\n",
            "Ign:6 https://developer.download.nvidia.com/compute/machine-learning/repos/ubuntu1804/x86_64  InRelease\n",
            "Get:7 http://archive.ubuntu.com/ubuntu bionic-backports InRelease [74.6 kB]\n",
            "Hit:8 https://developer.download.nvidia.com/compute/machine-learning/repos/ubuntu1804/x86_64  Release\n",
            "Get:9 http://ppa.launchpad.net/c2d4u.team/c2d4u4.0+/ubuntu bionic InRelease [15.9 kB]\n",
            "Hit:10 http://ppa.launchpad.net/cran/libgit2/ubuntu bionic InRelease\n",
            "Get:11 https://developer.download.nvidia.com/compute/cuda/repos/ubuntu1804/x86_64  Packages [787 kB]\n",
            "Get:12 http://ppa.launchpad.net/deadsnakes/ppa/ubuntu bionic InRelease [15.9 kB]\n",
            "Get:13 http://ppa.launchpad.net/graphics-drivers/ppa/ubuntu bionic InRelease [21.3 kB]\n",
            "Get:14 http://archive.ubuntu.com/ubuntu bionic-updates/universe amd64 Packages [2,281 kB]\n",
            "Get:15 http://archive.ubuntu.com/ubuntu bionic-updates/main amd64 Packages [3,223 kB]\n",
            "Get:16 http://archive.ubuntu.com/ubuntu bionic-updates/restricted amd64 Packages [988 kB]\n",
            "Get:17 http://archive.ubuntu.com/ubuntu bionic-updates/multiverse amd64 Packages [29.8 kB]\n",
            "Get:19 http://ppa.launchpad.net/c2d4u.team/c2d4u4.0+/ubuntu bionic/main Sources [1,967 kB]\n",
            "Get:20 http://security.ubuntu.com/ubuntu bionic-security/main amd64 Packages [2,792 kB]\n",
            "Get:21 http://ppa.launchpad.net/c2d4u.team/c2d4u4.0+/ubuntu bionic/main amd64 Packages [1,009 kB]\n",
            "Get:22 http://security.ubuntu.com/ubuntu bionic-security/multiverse amd64 Packages [22.8 kB]\n",
            "Get:23 http://security.ubuntu.com/ubuntu bionic-security/universe amd64 Packages [1,507 kB]\n",
            "Get:24 http://security.ubuntu.com/ubuntu bionic-security/restricted amd64 Packages [954 kB]\n",
            "Get:25 http://ppa.launchpad.net/deadsnakes/ppa/ubuntu bionic/main amd64 Packages [45.3 kB]\n",
            "Get:26 http://ppa.launchpad.net/graphics-drivers/ppa/ubuntu bionic/main amd64 Packages [44.3 kB]\n",
            "Fetched 16.0 MB in 7s (2,402 kB/s)\n",
            "Reading package lists... Done\n"
          ]
        }
      ]
    },
    {
      "cell_type": "code",
      "metadata": {
        "id": "_xKwTpATHqSe",
        "colab": {
          "base_uri": "https://localhost:8080/"
        },
        "outputId": "630cca15-9345-4012-a98f-10acd4d8dbb3"
      },
      "source": [
        "# Download the Postgres driver that will allow Spark to interact with Postgres.\n",
        "!wget https://jdbc.postgresql.org/download/postgresql-42.2.16.jar"
      ],
      "execution_count": 2,
      "outputs": [
        {
          "output_type": "stream",
          "name": "stdout",
          "text": [
            "--2022-05-27 07:14:17--  https://jdbc.postgresql.org/download/postgresql-42.2.16.jar\n",
            "Resolving jdbc.postgresql.org (jdbc.postgresql.org)... 72.32.157.228, 2001:4800:3e1:1::228\n",
            "Connecting to jdbc.postgresql.org (jdbc.postgresql.org)|72.32.157.228|:443... connected.\n",
            "HTTP request sent, awaiting response... 200 OK\n",
            "Length: 1002883 (979K) [application/java-archive]\n",
            "Saving to: ‘postgresql-42.2.16.jar’\n",
            "\n",
            "postgresql-42.2.16. 100%[===================>] 979.38K  --.-KB/s    in 0.1s    \n",
            "\n",
            "2022-05-27 07:14:18 (6.56 MB/s) - ‘postgresql-42.2.16.jar’ saved [1002883/1002883]\n",
            "\n"
          ]
        }
      ]
    },
    {
      "cell_type": "code",
      "metadata": {
        "id": "MMqDAjVS0KN9"
      },
      "source": [
        "from pyspark.sql import SparkSession\n",
        "spark = SparkSession.builder.appName(\"M16-Amazon-Challenge\").config(\"spark.driver.extraClassPath\",\"/content/postgresql-42.2.16.jar\").getOrCreate()"
      ],
      "execution_count": 3,
      "outputs": []
    },
    {
      "cell_type": "markdown",
      "metadata": {
        "id": "cyBsySGuY-9V"
      },
      "source": [
        "### Load Amazon Data into Spark DataFrame"
      ]
    },
    {
      "cell_type": "code",
      "metadata": {
        "id": "CtCmBhQJY-9Z",
        "colab": {
          "base_uri": "https://localhost:8080/"
        },
        "outputId": "c83cf429-7c61-4d91-b37e-c45b3c611800"
      },
      "source": [
        "from pyspark import SparkFiles\n",
        "url = \"https://bmr209-amazon-vine-analysis.s3.us-west-1.amazonaws.com/amazon_reviews_us_Sports_v1_00.tsv.gz\"\n",
        "spark.sparkContext.addFile(url)\n",
        "reviews_df = spark.read.csv(SparkFiles.get(\"amazon_reviews_us_Sports_v1_00.tsv.gz\"), sep=\"\\t\", header=True, inferSchema=True)\n",
        "reviews_df.show(20, False)"
      ],
      "execution_count": 4,
      "outputs": [
        {
          "output_type": "stream",
          "name": "stdout",
          "text": [
            "+-----------+-----------+--------------+----------+--------------+--------------------------------------------------------------------------------------------------------------------+----------------+-----------+-------------+-----------+----+-----------------+-----------------------------------------------------------------------+-----------------------------------------------------------------------------------------------------------------------------------------------------------------------------------------------------------------------------------------------------------------------------------------------------------------------------------------------------------------------------------------------------------------------------------------------------------------------------------------------------------------------------------------------------------------------------------------------------------------------------+-----------+\n",
            "|marketplace|customer_id|review_id     |product_id|product_parent|product_title                                                                                                       |product_category|star_rating|helpful_votes|total_votes|vine|verified_purchase|review_headline                                                        |review_body                                                                                                                                                                                                                                                                                                                                                                                                                                                                                                                                                                                                                  |review_date|\n",
            "+-----------+-----------+--------------+----------+--------------+--------------------------------------------------------------------------------------------------------------------+----------------+-----------+-------------+-----------+----+-----------------+-----------------------------------------------------------------------+-----------------------------------------------------------------------------------------------------------------------------------------------------------------------------------------------------------------------------------------------------------------------------------------------------------------------------------------------------------------------------------------------------------------------------------------------------------------------------------------------------------------------------------------------------------------------------------------------------------------------------+-----------+\n",
            "|US         |48945260   |R1WBPB8MDCCN8F|B012P7UPSM|409940130     |Chicago Blackhawks Adult Cuff Knit Beanie w/ Pom One Size Fits All NHL Authentic Hat Cap - OSFA                     |Sports          |5          |0            |0          |N   |N                |LOVE IT. 6 stars!                                                      |Bought this last winter I love it! I'm female and the hat is so comfy and fits over my ears perfectly to keep me warm! Love love love this hat! Can't wait for this winter  :)                                                                                                                                                                                                                                                                                                                                                                                                                                               |2015-08-31 |\n",
            "|US         |5782091    |R32M0YEWV77XG8|B001GQ3VHG|657746679     |Copag Poker Size Regular Index 1546 Playing Cards 2 decks (Black Gold Setup)                                        |Sports          |5          |1            |1          |N   |Y                |Shipped fast.                                                          |These are the best plastic playing cards I've ever owned. I came here from another plastic set called &#34;Bicycle: Prestige&#34;. These copags put those to shame.                                                                                                                                                                                                                                                                                                                                                                                                                                                          |2015-08-31 |\n",
            "|US         |45813853   |RR8V7WR27NXJ5 |B008VS8M58|962442336     |Baoer 223 5.56x45mm Caliber Cartridge Laser Bore Sighter Boresighter                                                |Sports          |1          |0            |0          |N   |Y                |Good idea if it would work.                                            |It looks good, the fit and finish were really good but it doesn't WORK! There's a short in it some where. The laser will work a few seconds and then it goes off. I replaced batteries with some new ones and it did the same thing. I replaced the new batteries with some more new ones and it did the same thing. So they're getting it back. If you're going to make something why not make sure it works? You don't make money getting it returned to you. If you can't do it for $6 bucks then charge $12. I'd much rather pay more for something that actually works as half price for a piece of junk that don't.    |2015-08-31 |\n",
            "|US         |1593730    |R1MHO5V9Z932AY|B005F06F4U|74305227      |All Terrain Tackle Jig - Grass Master - June Bug - 3/4oz- 2 Pack                                                    |Sports          |5          |0            |0          |N   |Y                |Five Stars                                                             |Great jig                                                                                                                                                                                                                                                                                                                                                                                                                                                                                                                                                                                                                    |2015-08-31 |\n",
            "|US         |29605511   |R16PD71086BD2V|B010T4IE2C|787185588     |Swim Cap - 3 Pack (Blue, Black & Red)                                                                               |Sports          |5          |0            |1          |N   |N                |Great quality silicon and very comfortable                             |I love swimming in the pool but my treated blonde hair gets really green from all the chlorine . I did order these caps through a special promotion to try them and share my honest opinion. I absolutely love them. They fit very well and snug to my head but yet can fit my daughter's extra long hair in it, and let me state here she has a lot of hair. Bright colors help me see where they are swimming , I just rinse them with tap water when I get home and hang to dry. Super elastic and again super comfortable .Mad of silicon they are super durable. Comes in zippered bags for storage.I do recommend them!|2015-08-31 |\n",
            "|US         |11112959   |R1Z8IFGWTRWXT6|B004RKJGLS|94127483      |adidas Men's Sport Performance Climalite Boxer Brief, Two-Pack                                                      |Sports          |3          |0            |0          |N   |Y                |Love everything about these except that the elastic waistband comes ...|Love everything about these except that the elastic waistband comes unraveled and comes apart!! perfectly sized, light, comfortable, great colors, great price. perfect material and concept just don't have much build quality                                                                                                                                                                                                                                                                                                                                                                                              |2015-08-31 |\n",
            "|US         |108031     |R3AUMSHAW73HWN|B005V3DCBU|526977496     |Nike Men's Performance Cotton Cushioned Crew Socks                                                                  |Sports          |4          |2            |3          |N   |N                |Four Stars                                                             |not the best socks in the world but it still has good quality. thanks!                                                                                                                                                                                                                                                                                                                                                                                                                                                                                                                                                       |2015-08-31 |\n",
            "|US         |13981540   |R2KWDWFOHGX6FL|B00MHT9WN8|26521265      |Green Bay Packers NFL Team Apparel Women's Forward Progress Shirt Plus Sizes                                        |Sports          |5          |0            |0          |N   |Y                |Five Stars                                                             |Love it                                                                                                                                                                                                                                                                                                                                                                                                                                                                                                                                                                                                                      |2015-08-31 |\n",
            "|US         |37993909   |R3H9543FWBWFBU|B001CSIRQ8|652431165     |Isokinetics Inc. Adjustable Balance Board - 16.5\" Round - 2 Levels of Difficulty - For Exercise and Physical Therapy|Sports          |5          |1            |1          |N   |Y                |can't wait to use it                                                   |Unfortunately I haven't been able to use my balance board as I just had surgery in my foot. But it arrived in good condition however the box itself was damaged                                                                                                                                                                                                                                                                                                                                                                                                                                                              |2015-08-31 |\n",
            "|US         |26040213   |RUANXOQ9W3OU5 |B001KZ3NOO|635861713     |Aottop Quality Electronic Digital Vernier Caliper                                                                   |Sports          |5          |0            |0          |N   |Y                |great product, accurate A+++                                           |fast shipping , great product , accurate A+++                                                                                                                                                                                                                                                                                                                                                                                                                                                                                                                                                                                |2015-08-31 |\n",
            "|US         |34657602   |R31673RTGEZSW7|B00005RCQS|72099763      |Everlast 2'x6' Folding Mat                                                                                          |Sports          |5          |2            |2          |N   |Y                |this mat is a pretty good solution                                     |If you have a terrifying habit of falling out bed and the constant near death experiences that come with it, this mat is a pretty good solution.  Just slide it out from under your bed every night and cheat the reaper of a beautiful corpse.                                                                                                                                                                                                                                                                                                                                                                              |2015-08-31 |\n",
            "|US         |14346192   |R22OQLFSH42RCM|B00FA7RWVI|757354022     |OGIO Men's Shredder Stand Bag                                                                                       |Sports          |5          |1            |1          |N   |Y                |Versatile Golf Bag                                                     |Love this golf bag, I have been using this both with a pull cart and also the regular golf cart.<br /><br />Has enough pockets to hold every thing you generally take to the course, the bag is sturdy.                                                                                                                                                                                                                                                                                                                                                                                                                      |2015-08-31 |\n",
            "|US         |38782687   |R12LEL4F3TSZUJ|B000MMH2HU|272402599     |Blue Sea Systems A-Series Double Blank Mounting Panel                                                               |Sports          |5          |2            |2          |N   |Y                |Great AC Main Breaker mounting panel!                                  |Perfect mounting items for the main AC breakers. My boat had aging AC breakers so i decided to make a starboard panel on use these mounting plates to label the main breakers. Excellent item and the reverse polarity light was a nice upgrade for the main breakers in the cockpit cabinet.<br /><br />The panels do not come with a light, so you will need two of the following, one red/one green (or you can choose) [[ASIN:B000K2IKPK Blue Sea Systems 120V AC LED, Green]]                                                                                                                                           |2015-08-31 |\n",
            "|US         |27138575   |R2L9XWD03072NI|B00WJOATDS|375070208     |Zengi AR15 45 Degree Offset Front and Rear Flip up Iron Sights, Back-up Iron Sights B.I.U.S                         |Sports          |5          |1            |2          |N   |Y                |Nice, some quirks                                                      |For the cost you can't judge... Given the chance to do it again I would.                                                                                                                                                                                                                                                                                                                                                                                                                                                                                                                                                     |2015-08-31 |\n",
            "|US         |11838771   |R2K0U91HIACANO|B00BOM2JNY|639666785     |Black Mountain Products Static Strength Exercise Stability Ball with Pump, 2000 lb/55cm, Blue                       |Sports          |5          |0            |0          |N   |N                |55 cm - Good quality - easy to start using                             |The ball is very sturdy and of good quality. The pump made it easy to start using it quickly without much effort. Just perfect for my height (55cm) (I'm 5'3&#34;)                                                                                                                                                                                                                                                                                                                                                                                                                                                           |2015-08-31 |\n",
            "|US         |535800     |R29SP6MBT7MXG7|B00OD5GAFM|38715442      |Trijicon VCOG 1-6x24 Riflescope Ballistic Reticle                                                                   |Sports          |4          |3            |3          |N   |Y                |Very nice scope.                                                       |Very nice scope...there isn't really anything bad I can say about the VCOG...other than the price.  It's a great scope, but not sure it's worth the $2500+ price tag.  There are a lot of other scopes that are similar in the $1500-2000 range, but probably not as rugged as the VCOG is.  If money isn't an issue, then this is as good as it gets.                                                                                                                                                                                                                                                                       |2015-08-31 |\n",
            "|US         |23156579   |R31XREAAMATEPY|B00CAHDC1K|57088652      |Naruto Headband for Ninja Shinobi - Sand Village (Sunagakure)                                                       |Sports          |5          |0            |0          |N   |Y                |was for my son and he was both excited and pleased with it             |This item                                                                                                                                                                                                                                                                                                                                                                                                                                                                                                                                                                                                                    |2015-08-31 |\n",
            "|US         |48107879   |R2116AVB87SO38|B004NLHXLG|114125984     |Under Armour Men's Resistor Low-Cut Socks (6 Pack)                                                                  |Sports          |5          |0            |0          |N   |Y                |Five Stars                                                             |greatest socks i have ever had!! a real performance sock!!                                                                                                                                                                                                                                                                                                                                                                                                                                                                                                                                                                   |2015-08-31 |\n",
            "|US         |27260960   |R3RDVBB6O0X3HW|B00L7OANWI|883962979     |Yes4All Deep Tissue Massage AccuPoint Roller (Clearance Sale)                                                       |Sports          |5          |0            |0          |N   |Y                |Five Stars                                                             |Perfect for home use. As Described. Good Price                                                                                                                                                                                                                                                                                                                                                                                                                                                                                                                                                                               |2015-08-31 |\n",
            "|US         |39537314   |R3LW5T149LKKQM|B0085PPSIQ|691479969     |Lansky PS-MED01 BladeMedic                                                                                          |Sports          |4          |0            |0          |N   |Y                |A bit heavy for pocket carry but works very well.                      |Very good product and works as described. Only problem I had was it is made out of some kind of cast metal and it's heavy for pocket carry.<br />Should of made out of a strong plastic as the smaller pocket Lansky sharpener is.                                                                                                                                                                                                                                                                                                                                                                                           |2015-08-31 |\n",
            "+-----------+-----------+--------------+----------+--------------+--------------------------------------------------------------------------------------------------------------------+----------------+-----------+-------------+-----------+----+-----------------+-----------------------------------------------------------------------+-----------------------------------------------------------------------------------------------------------------------------------------------------------------------------------------------------------------------------------------------------------------------------------------------------------------------------------------------------------------------------------------------------------------------------------------------------------------------------------------------------------------------------------------------------------------------------------------------------------------------------+-----------+\n",
            "only showing top 20 rows\n",
            "\n"
          ]
        }
      ]
    },
    {
      "cell_type": "markdown",
      "metadata": {
        "id": "2yUSe55VY-9t"
      },
      "source": [
        "### Create DataFrames to match tables"
      ]
    },
    {
      "cell_type": "code",
      "metadata": {
        "id": "C8REmY1aY-9u",
        "colab": {
          "base_uri": "https://localhost:8080/"
        },
        "outputId": "db21f033-0c47-4836-b32c-33f5dd868293"
      },
      "source": [
        "from pyspark.sql.functions import to_date\n",
        "# Read in the Review dataset as a DataFrame\n",
        "review_df_2 = reviews_df.select([\"review_id\", \"product_id\", to_date(\"review_date\", \"yyyy-MM-dd\").alias(\"review_date\")])\n",
        "review_df_2.show()"
      ],
      "execution_count": 5,
      "outputs": [
        {
          "output_type": "stream",
          "name": "stdout",
          "text": [
            "+--------------+----------+-----------+\n",
            "|     review_id|product_id|review_date|\n",
            "+--------------+----------+-----------+\n",
            "|R1WBPB8MDCCN8F|B012P7UPSM| 2015-08-31|\n",
            "|R32M0YEWV77XG8|B001GQ3VHG| 2015-08-31|\n",
            "| RR8V7WR27NXJ5|B008VS8M58| 2015-08-31|\n",
            "|R1MHO5V9Z932AY|B005F06F4U| 2015-08-31|\n",
            "|R16PD71086BD2V|B010T4IE2C| 2015-08-31|\n",
            "|R1Z8IFGWTRWXT6|B004RKJGLS| 2015-08-31|\n",
            "|R3AUMSHAW73HWN|B005V3DCBU| 2015-08-31|\n",
            "|R2KWDWFOHGX6FL|B00MHT9WN8| 2015-08-31|\n",
            "|R3H9543FWBWFBU|B001CSIRQ8| 2015-08-31|\n",
            "| RUANXOQ9W3OU5|B001KZ3NOO| 2015-08-31|\n",
            "|R31673RTGEZSW7|B00005RCQS| 2015-08-31|\n",
            "|R22OQLFSH42RCM|B00FA7RWVI| 2015-08-31|\n",
            "|R12LEL4F3TSZUJ|B000MMH2HU| 2015-08-31|\n",
            "|R2L9XWD03072NI|B00WJOATDS| 2015-08-31|\n",
            "|R2K0U91HIACANO|B00BOM2JNY| 2015-08-31|\n",
            "|R29SP6MBT7MXG7|B00OD5GAFM| 2015-08-31|\n",
            "|R31XREAAMATEPY|B00CAHDC1K| 2015-08-31|\n",
            "|R2116AVB87SO38|B004NLHXLG| 2015-08-31|\n",
            "|R3RDVBB6O0X3HW|B00L7OANWI| 2015-08-31|\n",
            "|R3LW5T149LKKQM|B0085PPSIQ| 2015-08-31|\n",
            "+--------------+----------+-----------+\n",
            "only showing top 20 rows\n",
            "\n"
          ]
        }
      ]
    },
    {
      "cell_type": "code",
      "metadata": {
        "id": "B0TESUDRY-90",
        "colab": {
          "base_uri": "https://localhost:8080/"
        },
        "outputId": "85edefdd-a39b-4c78-8e3e-f438f669b8e7"
      },
      "source": [
        "# Create the customers_table DataFrame\n",
        "customers_df = reviews_df.groupBy(\"customer_id\").agg({\"customer_id\": \"count\"}).withColumnRenamed(\"count(customer_id)\", \"customer_count\")\n",
        "customers_df.show()"
      ],
      "execution_count": 6,
      "outputs": [
        {
          "output_type": "stream",
          "name": "stdout",
          "text": [
            "+-----------+--------------+\n",
            "|customer_id|customer_count|\n",
            "+-----------+--------------+\n",
            "|   35669025|             1|\n",
            "|   48198949|            30|\n",
            "|   43355824|             6|\n",
            "|   33014261|             6|\n",
            "|   23493243|             1|\n",
            "|   30717305|             4|\n",
            "|   15714077|             2|\n",
            "|    7854719|             1|\n",
            "|   12761428|             2|\n",
            "|   14127895|             1|\n",
            "|   51451778|             4|\n",
            "|    3452965|             1|\n",
            "|   40430762|             2|\n",
            "|   27314089|            15|\n",
            "|   11405991|             1|\n",
            "|   20368048|             2|\n",
            "|   33967841|             2|\n",
            "|   10418855|             1|\n",
            "|   43783459|             1|\n",
            "|   50843047|             4|\n",
            "+-----------+--------------+\n",
            "only showing top 20 rows\n",
            "\n"
          ]
        }
      ]
    },
    {
      "cell_type": "code",
      "metadata": {
        "id": "4FwXA6UvY-96",
        "colab": {
          "base_uri": "https://localhost:8080/"
        },
        "outputId": "8ba2bed4-3c0b-4587-ec1c-bf6e9e401aed"
      },
      "source": [
        "# Create the products_table DataFrame and drop duplicates. \n",
        "products_df = reviews_df.select([\"product_id\", \"product_title\"])\n",
        "products_df = products_df.drop_duplicates()\n",
        "products_df.show(10, False)"
      ],
      "execution_count": 8,
      "outputs": [
        {
          "output_type": "stream",
          "name": "stdout",
          "text": [
            "+----------+----------------------------------------------------------------------------------------------------------------------------------------------------------------------+\n",
            "|product_id|product_title                                                                                                                                                         |\n",
            "+----------+----------------------------------------------------------------------------------------------------------------------------------------------------------------------+\n",
            "|B0092702VE|Abu Garcia Revo S Reel                                                                                                                                                |\n",
            "|B00HZ9WTVC|Lee 90355 Cutter Assembly Cutter Assembly 1 All Brass Casings                                                                                                         |\n",
            "|B00WS4FRQ8|BEEWARE Targets - 12x18 ” Silhouette Reactive Splatter Targets for Shooting - for Indoor / Outdoor Ranges – Rifle – Pistol – Air Rifle - 22 – Pellet - BB Gun Practice|\n",
            "|B00AKJVYYC|NEW Callaway RAZR X Hybrid Wood 2 3 4 5 6 X Sock Headcover                                                                                                            |\n",
            "|B00DIPSOM0|GoSports Ladder Toss Bolo Replacement Set with Real Golf Balls (6-Pack)                                                                                               |\n",
            "|B0017LEUCU|Body Sport Exercise Ball with Pump for Home, Gym, Balance, Stability, Pilates, Core Strength, Stretching, Yoga, Fitness Facilities, Desk Chairs                       |\n",
            "|B00B59OMS6|Swiftwick SUSTAIN ONE Socks                                                                                                                                           |\n",
            "|B00KC5SYLU|EliteTek RG-14 Football Gloves Youth and Adult                                                                                                                        |\n",
            "|B000GKUAB8|Multisport Helmet Cover - Unicorn                                                                                                                                     |\n",
            "|B001P80Z10|Izzo Golf Mini Mouth Chipping Net                                                                                                                                     |\n",
            "+----------+----------------------------------------------------------------------------------------------------------------------------------------------------------------------+\n",
            "only showing top 10 rows\n",
            "\n"
          ]
        }
      ]
    },
    {
      "cell_type": "code",
      "source": [
        "#products_df.filter(\"product_id == 'B0082CXEI8'\")\n",
        "#products_df.show(10, False)"
      ],
      "metadata": {
        "id": "5L2yt30yZL7k"
      },
      "execution_count": 9,
      "outputs": []
    },
    {
      "cell_type": "code",
      "metadata": {
        "id": "MkqyCuNQY-9-",
        "colab": {
          "base_uri": "https://localhost:8080/"
        },
        "outputId": "66a18ab4-126f-4c53-fb6a-31c7cf313509"
      },
      "source": [
        "# Create the review_id_table DataFrame. \n",
        "# Convert the 'review_date' column to a date datatype with to_date(\"review_date\", 'yyyy-MM-dd').alias(\"review_date\")\n",
        "review_id_df = reviews_df.select([\"review_id\", \"customer_id\", \"product_id\", \"product_parent\", to_date(\"review_date\", 'yyyy-MM-dd').alias(\"review_date\")])\n",
        "review_id_df.show()"
      ],
      "execution_count": 10,
      "outputs": [
        {
          "output_type": "stream",
          "name": "stdout",
          "text": [
            "+--------------+-----------+----------+--------------+-----------+\n",
            "|     review_id|customer_id|product_id|product_parent|review_date|\n",
            "+--------------+-----------+----------+--------------+-----------+\n",
            "|R1WBPB8MDCCN8F|   48945260|B012P7UPSM|     409940130| 2015-08-31|\n",
            "|R32M0YEWV77XG8|    5782091|B001GQ3VHG|     657746679| 2015-08-31|\n",
            "| RR8V7WR27NXJ5|   45813853|B008VS8M58|     962442336| 2015-08-31|\n",
            "|R1MHO5V9Z932AY|    1593730|B005F06F4U|      74305227| 2015-08-31|\n",
            "|R16PD71086BD2V|   29605511|B010T4IE2C|     787185588| 2015-08-31|\n",
            "|R1Z8IFGWTRWXT6|   11112959|B004RKJGLS|      94127483| 2015-08-31|\n",
            "|R3AUMSHAW73HWN|     108031|B005V3DCBU|     526977496| 2015-08-31|\n",
            "|R2KWDWFOHGX6FL|   13981540|B00MHT9WN8|      26521265| 2015-08-31|\n",
            "|R3H9543FWBWFBU|   37993909|B001CSIRQ8|     652431165| 2015-08-31|\n",
            "| RUANXOQ9W3OU5|   26040213|B001KZ3NOO|     635861713| 2015-08-31|\n",
            "|R31673RTGEZSW7|   34657602|B00005RCQS|      72099763| 2015-08-31|\n",
            "|R22OQLFSH42RCM|   14346192|B00FA7RWVI|     757354022| 2015-08-31|\n",
            "|R12LEL4F3TSZUJ|   38782687|B000MMH2HU|     272402599| 2015-08-31|\n",
            "|R2L9XWD03072NI|   27138575|B00WJOATDS|     375070208| 2015-08-31|\n",
            "|R2K0U91HIACANO|   11838771|B00BOM2JNY|     639666785| 2015-08-31|\n",
            "|R29SP6MBT7MXG7|     535800|B00OD5GAFM|      38715442| 2015-08-31|\n",
            "|R31XREAAMATEPY|   23156579|B00CAHDC1K|      57088652| 2015-08-31|\n",
            "|R2116AVB87SO38|   48107879|B004NLHXLG|     114125984| 2015-08-31|\n",
            "|R3RDVBB6O0X3HW|   27260960|B00L7OANWI|     883962979| 2015-08-31|\n",
            "|R3LW5T149LKKQM|   39537314|B0085PPSIQ|     691479969| 2015-08-31|\n",
            "+--------------+-----------+----------+--------------+-----------+\n",
            "only showing top 20 rows\n",
            "\n"
          ]
        }
      ]
    },
    {
      "cell_type": "code",
      "metadata": {
        "id": "lzMmkdKmY--D",
        "colab": {
          "base_uri": "https://localhost:8080/"
        },
        "outputId": "03070a39-de20-4b77-de3c-82cc5a548349"
      },
      "source": [
        "# Create the vine_table. DataFrame\n",
        "vine_df = reviews_df.select([\"review_id\", \"star_rating\", \"helpful_votes\", \"total_votes\", \"vine\", \"verified_purchase\"])\n",
        "vine_df.show()"
      ],
      "execution_count": 11,
      "outputs": [
        {
          "output_type": "stream",
          "name": "stdout",
          "text": [
            "+--------------+-----------+-------------+-----------+----+-----------------+\n",
            "|     review_id|star_rating|helpful_votes|total_votes|vine|verified_purchase|\n",
            "+--------------+-----------+-------------+-----------+----+-----------------+\n",
            "|R1WBPB8MDCCN8F|          5|            0|          0|   N|                N|\n",
            "|R32M0YEWV77XG8|          5|            1|          1|   N|                Y|\n",
            "| RR8V7WR27NXJ5|          1|            0|          0|   N|                Y|\n",
            "|R1MHO5V9Z932AY|          5|            0|          0|   N|                Y|\n",
            "|R16PD71086BD2V|          5|            0|          1|   N|                N|\n",
            "|R1Z8IFGWTRWXT6|          3|            0|          0|   N|                Y|\n",
            "|R3AUMSHAW73HWN|          4|            2|          3|   N|                N|\n",
            "|R2KWDWFOHGX6FL|          5|            0|          0|   N|                Y|\n",
            "|R3H9543FWBWFBU|          5|            1|          1|   N|                Y|\n",
            "| RUANXOQ9W3OU5|          5|            0|          0|   N|                Y|\n",
            "|R31673RTGEZSW7|          5|            2|          2|   N|                Y|\n",
            "|R22OQLFSH42RCM|          5|            1|          1|   N|                Y|\n",
            "|R12LEL4F3TSZUJ|          5|            2|          2|   N|                Y|\n",
            "|R2L9XWD03072NI|          5|            1|          2|   N|                Y|\n",
            "|R2K0U91HIACANO|          5|            0|          0|   N|                N|\n",
            "|R29SP6MBT7MXG7|          4|            3|          3|   N|                Y|\n",
            "|R31XREAAMATEPY|          5|            0|          0|   N|                Y|\n",
            "|R2116AVB87SO38|          5|            0|          0|   N|                Y|\n",
            "|R3RDVBB6O0X3HW|          5|            0|          0|   N|                Y|\n",
            "|R3LW5T149LKKQM|          4|            0|          0|   N|                Y|\n",
            "+--------------+-----------+-------------+-----------+----+-----------------+\n",
            "only showing top 20 rows\n",
            "\n"
          ]
        }
      ]
    },
    {
      "cell_type": "code",
      "source": [
        "vine_df.printSchema()"
      ],
      "metadata": {
        "colab": {
          "base_uri": "https://localhost:8080/"
        },
        "id": "DHUiGIZz0HZ2",
        "outputId": "fb30c9c1-db2d-4267-b25e-18c9ece17ea4"
      },
      "execution_count": 12,
      "outputs": [
        {
          "output_type": "stream",
          "name": "stdout",
          "text": [
            "root\n",
            " |-- review_id: string (nullable = true)\n",
            " |-- star_rating: string (nullable = true)\n",
            " |-- helpful_votes: integer (nullable = true)\n",
            " |-- total_votes: integer (nullable = true)\n",
            " |-- vine: string (nullable = true)\n",
            " |-- verified_purchase: string (nullable = true)\n",
            "\n"
          ]
        }
      ]
    },
    {
      "cell_type": "code",
      "source": [
        "from pyspark.sql.types import IntegerType\n",
        "vine_df = vine_df.withColumn(\"star_rating\", vine_df[\"star_rating\"].cast(IntegerType()))\n",
        "vine_df.show()"
      ],
      "metadata": {
        "colab": {
          "base_uri": "https://localhost:8080/"
        },
        "id": "33F53Wfz1Pzr",
        "outputId": "0e8324ce-41a2-4623-83f9-701f67f2a895"
      },
      "execution_count": 13,
      "outputs": [
        {
          "output_type": "stream",
          "name": "stdout",
          "text": [
            "+--------------+-----------+-------------+-----------+----+-----------------+\n",
            "|     review_id|star_rating|helpful_votes|total_votes|vine|verified_purchase|\n",
            "+--------------+-----------+-------------+-----------+----+-----------------+\n",
            "|R1WBPB8MDCCN8F|          5|            0|          0|   N|                N|\n",
            "|R32M0YEWV77XG8|          5|            1|          1|   N|                Y|\n",
            "| RR8V7WR27NXJ5|          1|            0|          0|   N|                Y|\n",
            "|R1MHO5V9Z932AY|          5|            0|          0|   N|                Y|\n",
            "|R16PD71086BD2V|          5|            0|          1|   N|                N|\n",
            "|R1Z8IFGWTRWXT6|          3|            0|          0|   N|                Y|\n",
            "|R3AUMSHAW73HWN|          4|            2|          3|   N|                N|\n",
            "|R2KWDWFOHGX6FL|          5|            0|          0|   N|                Y|\n",
            "|R3H9543FWBWFBU|          5|            1|          1|   N|                Y|\n",
            "| RUANXOQ9W3OU5|          5|            0|          0|   N|                Y|\n",
            "|R31673RTGEZSW7|          5|            2|          2|   N|                Y|\n",
            "|R22OQLFSH42RCM|          5|            1|          1|   N|                Y|\n",
            "|R12LEL4F3TSZUJ|          5|            2|          2|   N|                Y|\n",
            "|R2L9XWD03072NI|          5|            1|          2|   N|                Y|\n",
            "|R2K0U91HIACANO|          5|            0|          0|   N|                N|\n",
            "|R29SP6MBT7MXG7|          4|            3|          3|   N|                Y|\n",
            "|R31XREAAMATEPY|          5|            0|          0|   N|                Y|\n",
            "|R2116AVB87SO38|          5|            0|          0|   N|                Y|\n",
            "|R3RDVBB6O0X3HW|          5|            0|          0|   N|                Y|\n",
            "|R3LW5T149LKKQM|          4|            0|          0|   N|                Y|\n",
            "+--------------+-----------+-------------+-----------+----+-----------------+\n",
            "only showing top 20 rows\n",
            "\n"
          ]
        }
      ]
    },
    {
      "cell_type": "code",
      "source": [
        "vine_df.printSchema()"
      ],
      "metadata": {
        "colab": {
          "base_uri": "https://localhost:8080/"
        },
        "id": "zlGELpFe1wL2",
        "outputId": "f6e488d6-6db2-4f2f-f6a6-ccc616b72735"
      },
      "execution_count": 14,
      "outputs": [
        {
          "output_type": "stream",
          "name": "stdout",
          "text": [
            "root\n",
            " |-- review_id: string (nullable = true)\n",
            " |-- star_rating: integer (nullable = true)\n",
            " |-- helpful_votes: integer (nullable = true)\n",
            " |-- total_votes: integer (nullable = true)\n",
            " |-- vine: string (nullable = true)\n",
            " |-- verified_purchase: string (nullable = true)\n",
            "\n"
          ]
        }
      ]
    },
    {
      "cell_type": "markdown",
      "metadata": {
        "id": "jITZhLkmY--J"
      },
      "source": [
        "### Connect to the AWS RDS instance and write each DataFrame to its table. "
      ]
    },
    {
      "cell_type": "code",
      "metadata": {
        "id": "7jiUvs1aY--L",
        "colab": {
          "base_uri": "https://localhost:8080/"
        },
        "outputId": "33f870c5-06d0-4a28-8e0c-b1ddb92037b6"
      },
      "source": [
        "# Store environmental variable\n",
        "from getpass import getpass\n",
        "password = getpass('Enter database password')\n",
        "\n",
        "# Configure settings for RDS\n",
        "mode = \"append\"\n",
        "jdbc_url=\"jdbc:postgresql://dataviz.cyq3qvd4mb0z.us-west-1.rds.amazonaws.com:5432/amazon_vine_analysis\"\n",
        "config = {\"user\":\"postgres\", \n",
        "          \"password\": password, \n",
        "          \"driver\":\"org.postgresql.Driver\"}"
      ],
      "execution_count": 15,
      "outputs": [
        {
          "name": "stdout",
          "output_type": "stream",
          "text": [
            "Enter database password··········\n"
          ]
        }
      ]
    },
    {
      "cell_type": "code",
      "metadata": {
        "id": "T2zgZ-aKY--Q"
      },
      "source": [
        "# Write review_id_df to table in RDS\n",
        "review_id_df.write.jdbc(url=jdbc_url, table='review_id_table', mode=mode, properties=config)"
      ],
      "execution_count": 16,
      "outputs": []
    },
    {
      "cell_type": "code",
      "source": [
        "products_df.show(10, False)"
      ],
      "metadata": {
        "colab": {
          "base_uri": "https://localhost:8080/"
        },
        "id": "kSr-17VvrpR5",
        "outputId": "ddb6a831-0665-4764-a960-0a9dcb992b74"
      },
      "execution_count": 17,
      "outputs": [
        {
          "output_type": "stream",
          "name": "stdout",
          "text": [
            "+----------+----------------------------------------------------------------------------------------------------------------------------------------------------------------------+\n",
            "|product_id|product_title                                                                                                                                                         |\n",
            "+----------+----------------------------------------------------------------------------------------------------------------------------------------------------------------------+\n",
            "|B0092702VE|Abu Garcia Revo S Reel                                                                                                                                                |\n",
            "|B00HZ9WTVC|Lee 90355 Cutter Assembly Cutter Assembly 1 All Brass Casings                                                                                                         |\n",
            "|B00WS4FRQ8|BEEWARE Targets - 12x18 ” Silhouette Reactive Splatter Targets for Shooting - for Indoor / Outdoor Ranges – Rifle – Pistol – Air Rifle - 22 – Pellet - BB Gun Practice|\n",
            "|B00AKJVYYC|NEW Callaway RAZR X Hybrid Wood 2 3 4 5 6 X Sock Headcover                                                                                                            |\n",
            "|B00DIPSOM0|GoSports Ladder Toss Bolo Replacement Set with Real Golf Balls (6-Pack)                                                                                               |\n",
            "|B0017LEUCU|Body Sport Exercise Ball with Pump for Home, Gym, Balance, Stability, Pilates, Core Strength, Stretching, Yoga, Fitness Facilities, Desk Chairs                       |\n",
            "|B00B59OMS6|Swiftwick SUSTAIN ONE Socks                                                                                                                                           |\n",
            "|B00KC5SYLU|EliteTek RG-14 Football Gloves Youth and Adult                                                                                                                        |\n",
            "|B000GKUAB8|Multisport Helmet Cover - Unicorn                                                                                                                                     |\n",
            "|B001P80Z10|Izzo Golf Mini Mouth Chipping Net                                                                                                                                     |\n",
            "+----------+----------------------------------------------------------------------------------------------------------------------------------------------------------------------+\n",
            "only showing top 10 rows\n",
            "\n"
          ]
        }
      ]
    },
    {
      "cell_type": "code",
      "source": [
        "products_df.createOrReplaceTempView(\"product_tbl\")\n",
        "spark.sql(\"SELECT * from product_tbl WHERE product_id == 'B0082CXEI8'\").show(20, False)"
      ],
      "metadata": {
        "colab": {
          "base_uri": "https://localhost:8080/"
        },
        "id": "lLADfB_Ar5Fc",
        "outputId": "3a40966c-c67f-4cad-fe12-0d589d6ebaad"
      },
      "execution_count": 18,
      "outputs": [
        {
          "output_type": "stream",
          "name": "stdout",
          "text": [
            "+----------+------------------------------------------------------------------------------------------------------------------------------------------------------------------------------------------------------------------------------------------------------------------------------------------------------------------------------------------------------------------------------------------------------------------------------------------------------------------------------------------------------------------------------------------------------------------------------------------------------------------------------------------------------------------------------------------------------------------------------------------------------------------------------------------------------------------------------------------------------------------------------------------------------------------------------------------------------------------------------------------------------------------------------------------------------------------------------------------------------------------------------------------------------------------------------------------------------------------------------------------------------------------------------------------------+\n",
            "|product_id|product_title                                                                                                                                                                                                                                                                                                                                                                                                                                                                                                                                                                                                                                                                                                                                                                                                                                                                                                                                                                                                                                                                                                                                                                                                                                                                                   |\n",
            "+----------+------------------------------------------------------------------------------------------------------------------------------------------------------------------------------------------------------------------------------------------------------------------------------------------------------------------------------------------------------------------------------------------------------------------------------------------------------------------------------------------------------------------------------------------------------------------------------------------------------------------------------------------------------------------------------------------------------------------------------------------------------------------------------------------------------------------------------------------------------------------------------------------------------------------------------------------------------------------------------------------------------------------------------------------------------------------------------------------------------------------------------------------------------------------------------------------------------------------------------------------------------------------------------------------------+\n",
            "|B0082CXEI8|Blue Sea Systems BelowDeck Panels, Dual USB Chargers, 12V Sockets and Mini OLED Monitors\\tSports\\t5\\t0\\t0\\tN\\tY\\tideal for motorcycles\\ti installed this in my bmw f800gt and i can use my iphone's gps, music, etc. in long rides without worrying about draining the phone's battery.\\t2013-11-15                                                                                                                                                                                                                                                                                                                                                                                                                                                                                                                                                                                                                                                                                                                                                                                                                                                                                                                                                                                             |\n",
            "|B0082CXEI8|Blue Sea Systems BelowDeck Panels, Dual USB Chargers, 12V Sockets and Mini OLED Monitors\\tSports\\t4\\t0\\t1\\tN\\tY\\tGreat Idea, works great, slight room for improvement.\\tThese are a wonderful idea and a great addition to my truck.  I was able to remove one of the three 12 volt power outlets and replace it with this unit, giving me 2 USB charging ports and eliminating the need for me to carry power adapters.  The only design attribute missing, is that this unit is what many call a vampire charging unit, meaning that to turn it off, one has to cut the power to the unit.  It would be nice to see as an improvement, the unit only coming on while a device is plugged into it.  Since without anything plugged in it draws very little power, and taking into consideration I didn't want to have to turn my car on to power just simply a charger when the need arose, I have chosen to leave it as constantly on.  Other then that one design miss, this is a great unit and it allows me to charge my phone and my tablet without exposing the unit from behind the power outlet cover, giving a clean look to the interior.<br /><br />Unit is installed in 1 2002 GMC Sierra 2500HD connected directly to power supply for the 12 volt outlet it replaced.\\t2013-08-17|\n",
            "|B0082CXEI8|Blue Sea Systems BelowDeck Panels, Dual USB Chargers, 12V Sockets and Mini OLED Monitors\\tSports\\t5\\t0\\t0\\tN\\tY\\tGreat quality and price!\\tI installed this in my SUV as my new GPS uses a USB power source and the cigarette lighter socket was not convenient to get power from. While I don't need the water tight cap inside my car it is nice to be able to close the connection when not in use to keep out dust or creepy crawly things. I live in Texas and you get that kind of stuff in your car if you leave the windows open very long!\\t2013-08-15                                                                                                                                                                                                                                                                                                                                                                                                                                                                                                                                                                                                                                                                                                                                 |\n",
            "|B0082CXEI8|Blue Sea Systems BelowDeck Panels, Dual USB Chargers, 12V Sockets and Mini OLED Monitors\\tSports\\t5\\t0\\t0\\tN\\tY\\tFive Stars\\tgreat for any 12v system, blue sea quality!\\t2015-07-31                                                                                                                                                                                                                                                                                                                                                                                                                                                                                                                                                                                                                                                                                                                                                                                                                                                                                                                                                                                                                                                                                                            |\n",
            "|B0082CXEI8|Blue Sea Systems BelowDeck Panels, Dual USB Chargers, 12V Sockets and Mini OLED Monitors\\tSports\\t5\\t0\\t0\\tN\\tY\\tawesome products\\thas been working great. this is a great product with great results just equal great usage...\\t2014-08-05                                                                                                                                                                                                                                                                                                                                                                                                                                                                                                                                                                                                                                                                                                                                                                                                                                                                                                                                                                                                                                                     |\n",
            "|B0082CXEI8|Blue Sea Systems BelowDeck Panels, Dual USB Chargers, 12V Sockets and Mini OLED Monitors\\tSports\\t5\\t4\\t5\\tN\\tY\\tIt is what it is...\\tI mounted this onto my kayak, I know it sounds silly, but I listen to my music a lot and if I need to charge my iPhone or GoPro it's RIGHT THERE! Two charging station at my fingertips and it seems to be water tight so far. I'm glad I made this purchase!\\t2013-09-04                                                                                                                                                                                                                                                                                                                                                                                                                                                                                                                                                                                                                                                                                                                                                                                                                                                                                 |\n",
            "|B0082CXEI8|Blue Sea Systems BelowDeck Panels, Dual USB Chargers, 12V Sockets and Mini OLED Monitors\\tSports\\t5\\t0\\t0\\tN\\tY\\tPerfect\\tEasy install and great fit and finish. I am very happy with this product. I used an 1 1/8 inch hole saw to mount two of them in my truck. Super easy to use. I have never been disappointed with Blue Sea Systems.\\t2015-01-21                                                                                                                                                                                                                                                                                                                                                                                                                                                                                                                                                                                                                                                                                                                                                                                                                                                                                                                                        |\n",
            "|B0082CXEI8|Blue Sea Systems BelowDeck Panels, Dual USB Chargers, 12V Sockets and Mini OLED Monitors\\tSports\\t5\\t0\\t0\\tN\\tY\\tQuality Product\\tQuality product and blends in nicely with my FJ's interior.  Most of the other units I looked at were tacky\\t2013-11-08                                                                                                                                                                                                                                                                                                                                                                                                                                                                                                                                                                                                                                                                                                                                                                                                                                                                                                                                                                                                                                       |\n",
            "|B0082CXEI8|Blue Sea Systems BelowDeck Panels, Dual USB Chargers, 12V Sockets and Mini OLED Monitors\\tSports\\t5\\t0\\t0\\tN\\tY\\tGreat for the price\\tIt works wonderfully in my car. It was very easy to install and it works with my Apple products as well.\\t2013-07-28                                                                                                                                                                                                                                                                                                                                                                                                                                                                                                                                                                                                                                                                                                                                                                                                                                                                                                                                                                                                                                      |\n",
            "|B0082CXEI8|Blue Sea Systems BelowDeck Panels, Dual USB Chargers, 12V Sockets and Mini OLED Monitors\\tSports\\t4\\t0\\t0\\tN\\tY\\tIt works\\tKeeps my iPad running in the cockpit of the boat, that was the idea.  The cap does appear to be watertight, but you should plan on coming up with a way to seal the backing plate.  It's a two piece design and the plate actually fits over the front of the unit.\\t2012-11-16                                                                                                                                                                                                                                                                                                                                                                                                                                                                                                                                                                                                                                                                                                                                                                                                                                                                                      |\n",
            "|B0082CXEI8|Blue Sea Systems BelowDeck Panels, Dual USB Chargers, 12V Sockets and Mini OLED Monitors\\tSports\\t5\\t0\\t0\\tN\\tY\\tFive Stars\\tShould've installed this years ago...\\t2015-04-13                                                                                                                                                                                                                                                                                                                                                                                                                                                                                                                                                                                                                                                                                                                                                                                                                                                                                                                                                                                                                                                                                                                  |\n",
            "|B0082CXEI8|Blue Sea Systems BelowDeck Panels, Dual USB Chargers, 12V Sockets and Mini OLED Monitors\\tSports\\t5\\t0\\t0\\tN\\tY\\tWorks Great\\tWorks great\\t2014-08-07                                                                                                                                                                                                                                                                                                                                                                                                                                                                                                                                                                                                                                                                                                                                                                                                                                                                                                                                                                                                                                                                                                                                           |\n",
            "|B0082CXEI8|Blue Sea Systems BelowDeck Panels, Dual USB Chargers, 12V Sockets and Mini OLED Monitors\\tSports\\t5\\t0\\t0\\tN\\tY\\tOutstanding product\\tI ordered one of these to replace one of the factory power ports in my 2003 Explorer.  It works so well that I bought three more and installed them in additional locations in the truck - one in the rear of the center console, one adjacent to the third row seating, and another behind the dash for an iPad charging cable and my Bluetooth audio receiver.  Nearly every seat in the truck has its own USB charging port now.  Very high quality piece.  Produces a total of 2.1 amps, which is enough to keep an iPad and a Galaxy S3 easily powered.  Requires a 1 1/8&#34; hole to mount in a panel, which dropped right in my Explorer's factory locations after trimming off a couple of tabs for the factory outlets.\\t2013-10-14                                                                                                                                                                                                                                                                                                                                                                                                             |\n",
            "|B0082CXEI8|Blue Sea Systems BelowDeck Panels, Dual USB Chargers, 12V Sockets and Mini OLED Monitors\\tSports\\t5\\t0\\t0\\tN\\tY\\tGreat item\\tThis item is just what I had been looking for.  I have it installed on my Harley and it works wonderfully.  Will recommend this to my Riding Buddies.\\t2013-09-13                                                                                                                                                                                                                                                                                                                                                                                                                                                                                                                                                                                                                                                                                                                                                                                                                                                                                                                                                                                                  |\n",
            "|B0082CXEI8|Blue Sea Systems BelowDeck Panels, Dual USB Chargers, 12V Sockets and Mini OLED Monitors\\tSports\\t5\\t0\\t0\\tN\\tY\\tHigh quality\\tA great item - much nicer than its competitors (doesn't look like cheap plastic).<br /><br />Works great and Blue Sea is an AMAZING company.  I actually broke the first one (my poor electrician skills) and they sent me a replacement for free.  I offered to pay (it was my fault it broke) but they insisted on sending me another one free of charge.<br /><br />I would recommend Blue Sea to anyone looking for similar parts for a boat (or a golf cart - where I am using this).<br /><br />Just make sure you wire it 12V not 48V (oops)\\t2013-07-29                                                                                                                                                                                                                                                                                                                                                                                                                                                                                                                                                                                                  |\n",
            "|B0082CXEI8|Blue Sea Systems BelowDeck Panels, Dual USB Chargers, 12V Sockets and Mini OLED Monitors\\tSports\\t5\\t0\\t0\\tN\\tY\\tGreat outlet for charging/running electronic devices\\tUsed a forstner bit and a Roto-Zip to drill hole in boat dashboard. Used two wires with spade fittings crimped on to connect to fused relay that I previously installed for powered accessories. Blends nicely with black dashboard. I use socket to charge and/or run USB supported GPS receiver and iPad2. Can also charge iPhone.\\t2013-07-10                                                                                                                                                                                                                                                                                                                                                                                                                                                                                                                                                                                                                                                                                                                                                                         |\n",
            "|B0082CXEI8|Blue Sea Systems BelowDeck Panels, Dual USB Chargers, 12V Sockets and Mini OLED Monitors\\tSports\\t5\\t0\\t0\\tN\\tY\\tFive Stars\\tperfect\\t2015-01-06                                                                                                                                                                                                                                                                                                                                                                                                                                                                                                                                                                                                                                                                                                                                                                                                                                                                                                                                                                                                                                                                                                                                                |\n",
            "|B0082CXEI8|Blue Sea Systems BelowDeck Panels, Dual USB Chargers, 12V Sockets and Mini OLED Monitors\\tSports\\t5\\t0\\t0\\tN\\tY\\tis a piece of excellent quality was what I expected\\tis a piece of excellent quality was what I expected, I am satisfied with my purchase. I recommend this article\\t2015-01-15                                                                                                                                                                                                                                                                                                                                                                                                                                                                                                                                                                                                                                                                                                                                                                                                                                                                                                                                                                                                |\n",
            "|B0082CXEI8|Blue Sea Systems BelowDeck Panels, Dual USB Chargers, 12V Sockets and Mini OLED Monitors\\tSports\\t5\\t0\\t0\\tN\\tY\\tFive Stars\\tVery usefull\\t2015-03-24                                                                                                                                                                                                                                                                                                                                                                                                                                                                                                                                                                                                                                                                                                                                                                                                                                                                                                                                                                                                                                                                                                                                           |\n",
            "|B0082CXEI8|Blue Sea Systems BelowDeck Panels, Dual USB Chargers, 12V Sockets and Mini OLED Monitors\\tSports\\t5\\t0\\t0\\tN\\tY\\tFive Stars\\tGreat for Boats\\t2015-03-10                                                                                                                                                                                                                                                                                                                                                                                                                                                                                                                                                                                                                                                                                                                                                                                                                                                                                                                                                                                                                                                                                                                                        |\n",
            "+----------+------------------------------------------------------------------------------------------------------------------------------------------------------------------------------------------------------------------------------------------------------------------------------------------------------------------------------------------------------------------------------------------------------------------------------------------------------------------------------------------------------------------------------------------------------------------------------------------------------------------------------------------------------------------------------------------------------------------------------------------------------------------------------------------------------------------------------------------------------------------------------------------------------------------------------------------------------------------------------------------------------------------------------------------------------------------------------------------------------------------------------------------------------------------------------------------------------------------------------------------------------------------------------------------------+\n",
            "only showing top 20 rows\n",
            "\n"
          ]
        }
      ]
    },
    {
      "cell_type": "code",
      "source": [
        "from pyspark.sql.functions import split, regexp_replace\n",
        "df1 = products_df.withColumn('product_title', split(products_df['product_title'], '\\t').getItem(0)) \n",
        "df1 = df1.withColumn('product_title', regexp_replace('product_title', '\"', ''))"
      ],
      "metadata": {
        "id": "8dNBpsF7r47S"
      },
      "execution_count": 19,
      "outputs": []
    },
    {
      "cell_type": "code",
      "source": [
        "df1 = df1.drop_duplicates()\n",
        "#df1.show()"
      ],
      "metadata": {
        "id": "k6hnb6r-wMmB"
      },
      "execution_count": 20,
      "outputs": []
    },
    {
      "cell_type": "code",
      "source": [
        "df1.createOrReplaceTempView(\"product_tbl\")\n",
        "spark.sql(\"SELECT * from product_tbl WHERE product_id == 'B0082CXEI8'\").show(20, False)"
      ],
      "metadata": {
        "colab": {
          "base_uri": "https://localhost:8080/"
        },
        "id": "G3wXRv97wV5-",
        "outputId": "ca3d2001-8f60-40be-bc7f-b45948848895"
      },
      "execution_count": 21,
      "outputs": [
        {
          "output_type": "stream",
          "name": "stdout",
          "text": [
            "+----------+----------------------------------------------------------------------------------------+\n",
            "|product_id|product_title                                                                           |\n",
            "+----------+----------------------------------------------------------------------------------------+\n",
            "|B0082CXEI8|Blue Sea Systems BelowDeck Panels, Dual USB Chargers, 12V Sockets and Mini OLED Monitors|\n",
            "+----------+----------------------------------------------------------------------------------------+\n",
            "\n"
          ]
        }
      ]
    },
    {
      "cell_type": "code",
      "metadata": {
        "id": "1m3yzn-LY--U"
      },
      "source": [
        "# Write products_df to table in RDS\n",
        "# about 3 min\n",
        "df1.write.jdbc(url=jdbc_url, table='products_table', mode=mode, properties=config)"
      ],
      "execution_count": 22,
      "outputs": []
    },
    {
      "cell_type": "code",
      "metadata": {
        "id": "KbXri15fY--Z"
      },
      "source": [
        "# Write customers_df to table in RDS\n",
        "# 5 min 14 s\n",
        "customers_df.write.jdbc(url=jdbc_url, table='customers_table', mode=mode, properties=config)"
      ],
      "execution_count": 23,
      "outputs": []
    },
    {
      "cell_type": "code",
      "metadata": {
        "id": "XdQknSHLY--e"
      },
      "source": [
        "# Write vine_df to table in RDS\n",
        "# 11 minutes\n",
        "vine_df.write.jdbc(url=jdbc_url, table='vine_table', mode=mode, properties=config)"
      ],
      "execution_count": 24,
      "outputs": []
    }
  ]
}